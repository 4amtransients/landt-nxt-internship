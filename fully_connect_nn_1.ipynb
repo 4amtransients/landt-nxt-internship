{
  "nbformat": 4,
  "nbformat_minor": 0,
  "metadata": {
    "colab": {
      "name": "fully connect nn 1.ipynb",
      "provenance": [],
      "collapsed_sections": [],
      "authorship_tag": "ABX9TyPxlu9Gozvtzq+VENnokbsE",
      "include_colab_link": true
    },
    "kernelspec": {
      "name": "python3",
      "display_name": "Python 3"
    }
  },
  "cells": [
    {
      "cell_type": "markdown",
      "metadata": {
        "id": "view-in-github",
        "colab_type": "text"
      },
      "source": [
        "<a href=\"https://colab.research.google.com/github/4amtransients/landtnxtinternship/blob/master/fully_connect_nn_1.ipynb\" target=\"_parent\"><img src=\"https://colab.research.google.com/assets/colab-badge.svg\" alt=\"Open In Colab\"/></a>"
      ]
    },
    {
      "cell_type": "markdown",
      "metadata": {
        "id": "r0wwb3hextrJ",
        "colab_type": "text"
      },
      "source": [
        "**4th May to 11th May** \n",
        "\n",
        "Designing a fully connected neural network to classify data from the MNIST dataset\n",
        "\n"
      ]
    },
    {
      "cell_type": "code",
      "metadata": {
        "id": "oUzX7RGxt9kH",
        "colab_type": "code",
        "colab": {}
      },
      "source": [
        "#libraries\n",
        "import tensorflow as tf\n",
        "\n",
        "import keras\n",
        "from keras.datasets import mnist \n",
        "from keras.layers import Dense # densely-connected NN layer \n",
        "from keras.models import Sequential # linear stack of layers\n",
        "\n",
        "from matplotlib import pyplot as plt\n",
        "from random import randint\n"
      ],
      "execution_count": 0,
      "outputs": []
    },
    {
      "cell_type": "markdown",
      "metadata": {
        "id": "QTQjgFKwIjxk",
        "colab_type": "text"
      },
      "source": [
        "As fully connected networks are used instead of a CNN, the images must be flattened.\n",
        "\n",
        "However, flattening them results in removal of information about what pixels are next to each other"
      ]
    },
    {
      "cell_type": "code",
      "metadata": {
        "id": "pZOTd2kFuiab",
        "colab_type": "code",
        "colab": {}
      },
      "source": [
        "#loading and preprocessing\n",
        "\n",
        "(x_tr, y_tr), (x_te, y_te) = mnist.load_data() # tr = training set , te = test set , x = data , y = labels\n",
        "# copy of training set\n",
        "x_tr2 = x_tr\n",
        "# copy of test set\n",
        "x_te2 = x_te\n",
        "\n",
        "# flatten image\n",
        "image_size = 28*28 # each image is 28 x 28 pixels\n",
        "x_tr = x_tr.reshape(x_tr.shape[0], image_size)\n",
        "x_te = x_te.reshape(x_te.shape[0], image_size)\n",
        "# vectors into binary matrices\n",
        "num_classes = 10\n",
        "y_tr = keras.utils.to_categorical(y_tr, num_classes)\n",
        "y_te = keras.utils.to_categorical(y_te, num_classes)\n",
        "\n",
        "\n"
      ],
      "execution_count": 0,
      "outputs": []
    },
    {
      "cell_type": "code",
      "metadata": {
        "id": "jbqe_rmyFBcP",
        "colab_type": "code",
        "colab": {}
      },
      "source": [
        "model = Sequential()\n",
        "\n",
        "model.add(Dense(units = 32, activation = 'sigmoid', input_shape = (image_size,))) # hidden layer\n",
        "model.add(Dense(units = num_classes, activation = 'softmax')) # o/p layer  \n",
        "# model.summary()\n",
        "\n",
        "model.compile(optimizer=\"sgd\", loss='categorical_crossentropy', metrics=['accuracy'])\n",
        "model.fit(x_tr, y_tr, batch_size=128, epochs=15, validation_split=.5) \n",
        "\n",
        "\n",
        "\n"
      ],
      "execution_count": 0,
      "outputs": []
    }
  ]
}