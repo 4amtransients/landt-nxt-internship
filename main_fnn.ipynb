{
  "nbformat": 4,
  "nbformat_minor": 0,
  "metadata": {
    "colab": {
      "name": "main_fnn.ipynb",
      "provenance": [],
      "collapsed_sections": [],
      "include_colab_link": true
    },
    "kernelspec": {
      "name": "python3",
      "display_name": "Python 3"
    }
  },
  "cells": [
    {
      "cell_type": "markdown",
      "metadata": {
        "id": "view-in-github",
        "colab_type": "text"
      },
      "source": [
        "<a href=\"https://colab.research.google.com/github/4amtransients/landtnxtinternship/blob/master/main_fnn.ipynb\" target=\"_parent\"><img src=\"https://colab.research.google.com/assets/colab-badge.svg\" alt=\"Open In Colab\"/></a>"
      ]
    },
    {
      "cell_type": "code",
      "metadata": {
        "id": "0V3_C97fZ-Vu",
        "colab_type": "code",
        "outputId": "0b5843ae-5678-4705-8515-0c44f45e07a3",
        "colab": {
          "base_uri": "https://localhost:8080/",
          "height": 33
        }
      },
      "source": [
        "# libraries\n",
        "import tensorflow as tf\n",
        "  \n",
        "import keras\n",
        "from keras.datasets import mnist \n",
        "from keras.layers import Dense, Dropout\n",
        "from keras.models import Sequential \n",
        "\n",
        "import numpy as np\n",
        "import pandas as pd\n",
        "\n",
        "from matplotlib import pyplot as plt\n",
        "from random import randint "
      ],
      "execution_count": 2,
      "outputs": [
        {
          "output_type": "stream",
          "text": [
            "Using TensorFlow backend.\n"
          ],
          "name": "stderr"
        }
      ]
    },
    {
      "cell_type": "code",
      "metadata": {
        "id": "915VyJYwnEW_",
        "colab_type": "code",
        "colab": {
          "base_uri": "https://localhost:8080/",
          "height": 1000
        },
        "outputId": "9797d2e5-1d0d-43af-ab7b-9057106d04fa"
      },
      "source": [
        "n=784\n",
        "num_labels=10\n",
        "\n",
        "#prepocessing data\n",
        "\n",
        "(x_tr, label_tr), (x_te, label_te) = mnist.load_data() \n",
        "\n",
        "label_trlin=label_tr\n",
        "label_telin=label_te\n",
        "\n",
        "x_tr = x_tr.reshape(x_tr.shape[0], 784)\n",
        "x_te = x_te.reshape(x_te.shape[0], 784)\n",
        "\n",
        "data = x_tr\n",
        "labels = label_tr\n",
        "x_te2 = x_te\n",
        "\n",
        "#categorical data\n",
        "label_tr = keras.utils.to_categorical(label_tr, num_labels)\n",
        "label_te = keras.utils.to_categorical(label_te, num_labels)\n",
        "\n",
        "#creating model\n",
        "model = Sequential()\n",
        "model.add(Dense(128, activation='sigmoid', input_shape=(n,)))\n",
        "#model.add(Dropout(0.5))\n",
        "model.add(Dense(10, activation='softmax'))\n",
        "\n",
        "model.compile(optimizer='sgd',loss='categorical_crossentropy',metrics=['accuracy'])\n",
        "model.summary()\n",
        "\n",
        "#fitting model\n",
        "history=model.fit(x_tr, label_tr, batch_size=128, epochs=20, validation_split=.5)\n",
        "\n",
        "#evaluation\n",
        "loss, accuracy=model.evaluate(x_tr,label_tr)\n",
        "print(accuracy,loss)\n",
        "print('\\n')\n",
        "plt.plot(history.history['accuracy'])\n",
        "plt.plot(history.history['val_accuracy'])\n",
        "plt.show()\n",
        "plt.plot(history.history['val_loss'])\n",
        "plt.plot(history.history['loss'])\n",
        "plt.show()\n",
        "\n",
        "print(f'test loss: {loss:.3}')\n",
        "print(f'test accuracy: {accuracy:.3}')\n",
        "\n",
        "#prediction\n",
        "results=model.predict(x_te)\n",
        "df = pd.DataFrame(results)\n",
        "resultslin=(df.idxmax(axis=1))\n",
        "\n",
        "#confusion matrix\n",
        "con_mat = tf.math.confusion_matrix(labels=label_telin, predictions=resultslin).numpy()\n",
        "print(con_mat)\n",
        "print('\\n')\n",
        "\n",
        "#precision and recall \n",
        "\n",
        "con = pd.DataFrame(con_mat)\n",
        "predpos=con.sum(axis = 0, skipna = True)\n",
        "predneg=con.sum(axis = 1, skipna = True)\n",
        "precision=np.zeros(num_labels)\n",
        "recall=np.zeros(num_labels)\n",
        "for i in range(num_labels):\n",
        "  precision[i]=con_mat[i,i]/(predpos[i])\n",
        "  recall[i]=con_mat[i,i]/(predneg[i])\n",
        "print('precision',precision)\n",
        "print('\\n')\n",
        "print('recall',recall)\n",
        "\n",
        "# inference\n",
        "\n",
        "print('\\n')\n",
        "index = int(input('Enter an index between 1 and 10000 to test the network for'))\n",
        "plt.imshow(x_te2[index].reshape(28,28),cmap='Greys')\n",
        "print(resultslin[index])\n",
        "\n",
        "    "
      ],
      "execution_count": 7,
      "outputs": [
        {
          "output_type": "stream",
          "text": [
            "Model: \"sequential_5\"\n",
            "_________________________________________________________________\n",
            "Layer (type)                 Output Shape              Param #   \n",
            "=================================================================\n",
            "dense_10 (Dense)             (None, 128)               100480    \n",
            "_________________________________________________________________\n",
            "dense_11 (Dense)             (None, 10)                1290      \n",
            "=================================================================\n",
            "Total params: 101,770\n",
            "Trainable params: 101,770\n",
            "Non-trainable params: 0\n",
            "_________________________________________________________________\n",
            "Train on 30000 samples, validate on 30000 samples\n",
            "Epoch 1/20\n",
            "30000/30000 [==============================] - 1s 38us/step - loss: 1.3289 - accuracy: 0.6453 - val_loss: 0.8544 - val_accuracy: 0.8104\n",
            "Epoch 2/20\n",
            "30000/30000 [==============================] - 1s 36us/step - loss: 0.7011 - accuracy: 0.8383 - val_loss: 0.6071 - val_accuracy: 0.8581\n",
            "Epoch 3/20\n",
            "30000/30000 [==============================] - 1s 36us/step - loss: 0.5432 - accuracy: 0.8715 - val_loss: 0.5076 - val_accuracy: 0.8753\n",
            "Epoch 4/20\n",
            "30000/30000 [==============================] - 1s 36us/step - loss: 0.4631 - accuracy: 0.8877 - val_loss: 0.4560 - val_accuracy: 0.8866\n",
            "Epoch 5/20\n",
            "30000/30000 [==============================] - 1s 36us/step - loss: 0.4136 - accuracy: 0.8967 - val_loss: 0.4161 - val_accuracy: 0.8932\n",
            "Epoch 6/20\n",
            "30000/30000 [==============================] - 1s 35us/step - loss: 0.3795 - accuracy: 0.9037 - val_loss: 0.3898 - val_accuracy: 0.8973\n",
            "Epoch 7/20\n",
            "30000/30000 [==============================] - 1s 37us/step - loss: 0.3547 - accuracy: 0.9086 - val_loss: 0.3693 - val_accuracy: 0.9018\n",
            "Epoch 8/20\n",
            "30000/30000 [==============================] - 1s 36us/step - loss: 0.3315 - accuracy: 0.9148 - val_loss: 0.3544 - val_accuracy: 0.9053\n",
            "Epoch 9/20\n",
            "30000/30000 [==============================] - 1s 37us/step - loss: 0.3156 - accuracy: 0.9179 - val_loss: 0.3386 - val_accuracy: 0.9090\n",
            "Epoch 10/20\n",
            "30000/30000 [==============================] - 1s 36us/step - loss: 0.2993 - accuracy: 0.9226 - val_loss: 0.3284 - val_accuracy: 0.9107\n",
            "Epoch 11/20\n",
            "30000/30000 [==============================] - 1s 36us/step - loss: 0.2883 - accuracy: 0.9245 - val_loss: 0.3194 - val_accuracy: 0.9122\n",
            "Epoch 12/20\n",
            "30000/30000 [==============================] - 1s 36us/step - loss: 0.2765 - accuracy: 0.9265 - val_loss: 0.3078 - val_accuracy: 0.9155\n",
            "Epoch 13/20\n",
            "30000/30000 [==============================] - 1s 36us/step - loss: 0.2669 - accuracy: 0.9294 - val_loss: 0.3022 - val_accuracy: 0.9179\n",
            "Epoch 14/20\n",
            "30000/30000 [==============================] - 1s 37us/step - loss: 0.2577 - accuracy: 0.9322 - val_loss: 0.2956 - val_accuracy: 0.9167\n",
            "Epoch 15/20\n",
            "30000/30000 [==============================] - 1s 36us/step - loss: 0.2492 - accuracy: 0.9344 - val_loss: 0.2873 - val_accuracy: 0.9200\n",
            "Epoch 16/20\n",
            "30000/30000 [==============================] - 1s 36us/step - loss: 0.2409 - accuracy: 0.9360 - val_loss: 0.2822 - val_accuracy: 0.9199\n",
            "Epoch 17/20\n",
            "30000/30000 [==============================] - 1s 36us/step - loss: 0.2337 - accuracy: 0.9380 - val_loss: 0.2756 - val_accuracy: 0.9215\n",
            "Epoch 18/20\n",
            "30000/30000 [==============================] - 1s 37us/step - loss: 0.2271 - accuracy: 0.9390 - val_loss: 0.2720 - val_accuracy: 0.9226\n",
            "Epoch 19/20\n",
            "30000/30000 [==============================] - 1s 36us/step - loss: 0.2217 - accuracy: 0.9413 - val_loss: 0.2650 - val_accuracy: 0.9247\n",
            "Epoch 20/20\n",
            "30000/30000 [==============================] - 1s 35us/step - loss: 0.2133 - accuracy: 0.9429 - val_loss: 0.2636 - val_accuracy: 0.9245\n",
            "60000/60000 [==============================] - 1s 24us/step\n",
            "0.9345333576202393 0.23682953099807103\n",
            "\n",
            "\n"
          ],
          "name": "stdout"
        },
        {
          "output_type": "display_data",
          "data": {
            "image/png": "[encoded data removed]",
            "text/plain": [
              "<Figure size 432x288 with 1 Axes>"
            ]
          },
          "metadata": {
            "tags": [],
            "needs_background": "light"
          }
        },
        {
          "output_type": "display_data",
          "data": {
            "image/png": "[encoded data removed]",
            "text/plain": [
              "<Figure size 432x288 with 1 Axes>"
            ]
          },
          "metadata": {
            "tags": [],
            "needs_background": "light"
          }
        },
        {
          "output_type": "stream",
          "text": [
            "test loss: 0.237\n",
            "test accuracy: 0.935\n",
            "[[ 960    0    1    1    0    3    7    3    5    0]\n",
            " [   0 1116    4    2    0    1    3    1    8    0]\n",
            " [   7    1  945   14   10    1   10   18   23    3]\n",
            " [   2    1   17  936    0   22    3   11   13    5]\n",
            " [   1    1    4    0  927    0   12    3    4   30]\n",
            " [  14    2    7   34    8  780   14    5   22    6]\n",
            " [   9    3    9    1   10   10  910    2    4    0]\n",
            " [   2   10   21   10    8    0    0  947    2   28]\n",
            " [   4    8   14   34    7   13   13   13  859    9]\n",
            " [   9    7    1   17   32    4    1   15    4  919]]\n",
            "\n",
            "\n",
            "precision [0.95238095 0.97127937 0.92375367 0.89227836 0.9251497  0.9352518\n",
            " 0.9352518  0.9302554  0.90995763 0.919     ]\n",
            "\n",
            "\n",
            "recall [0.97959184 0.98325991 0.91569767 0.92673267 0.94399185 0.87443946\n",
            " 0.94989562 0.92120623 0.88193018 0.91080278]\n",
            "\n",
            "\n",
            "Enter an index between 1 and 10000 to test the network for5678\n",
            "8\n"
          ],
          "name": "stdout"
        },
        {
          "output_type": "display_data",
          "data": {
            "image/png": "[encoded data removed]",
            "text/plain": [
              "<Figure size 432x288 with 1 Axes>"
            ]
          },
          "metadata": {
            "tags": [],
            "needs_background": "light"
          }
        }
      ]
    }
  ]
}