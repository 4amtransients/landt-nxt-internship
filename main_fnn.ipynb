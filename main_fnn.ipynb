{
  "nbformat": 4,
  "nbformat_minor": 0,
  "metadata": {
    "colab": {
      "name": "main_fnn.ipynb",
      "provenance": [],
      "collapsed_sections": [],
      "include_colab_link": true
    },
    "kernelspec": {
      "name": "python3",
      "display_name": "Python 3"
    }
  },
  "cells": [
    {
      "cell_type": "markdown",
      "metadata": {
        "id": "view-in-github",
        "colab_type": "text"
      },
      "source": [
        "<a href=\"https://colab.research.google.com/github/4amtransients/landtnxtinternship/blob/master/main_fnn.ipynb\" target=\"_parent\"><img src=\"https://colab.research.google.com/assets/colab-badge.svg\" alt=\"Open In Colab\"/></a>"
      ]
    },
    {
      "cell_type": "code",
      "metadata": {
        "id": "0V3_C97fZ-Vu",
        "colab_type": "code",
        "outputId": "0b5843ae-5678-4705-8515-0c44f45e07a3",
        "colab": {
          "base_uri": "https://localhost:8080/",
          "height": 33
        }
      },
      "source": [
        "# libraries\n",
        "import tensorflow as tf\n",
        "  \n",
        "import keras\n",
        "from keras.datasets import mnist \n",
        "from keras.layers import Dense, Dropout\n",
        "from keras.models import Sequential \n",
        "\n",
        "import numpy as np\n",
        "import pandas as pd\n",
        "\n",
        "from matplotlib import pyplot as plt\n",
        "from random import randint "
      ],
      "execution_count": 0,
      "outputs": [
        {
          "output_type": "stream",
          "text": [
            "Using TensorFlow backend.\n"
          ],
          "name": "stderr"
        }
      ]
    },
    {
      "cell_type": "code",
      "metadata": {
        "id": "915VyJYwnEW_",
        "colab_type": "code",
        "colab": {}
      },
      "source": [
        "n=784\n",
        "num_labels=10\n",
        "\n",
        "#prepocessing data\n",
        "\n",
        "(x_tr, label_tr), (x_te, label_te) = mnist.load_data() \n",
        "\n",
        "label_trlin=label_tr\n",
        "label_telin=label_te\n",
        "\n",
        "x_tr = x_tr.reshape(x_tr.shape[0], 784)\n",
        "x_te = x_te.reshape(x_te.shape[0], 784)\n",
        "\n",
        "data = x_tr\n",
        "labels = label_tr\n",
        "x_te2 = x_te\n",
        "\n",
        "#categorical data\n",
        "label_tr = keras.utils.to_categorical(label_tr, num_labels)\n",
        "label_te = keras.utils.to_categorical(label_te, num_labels)\n",
        "\n",
        "#creating model\n",
        "model = Sequential()\n",
        "model.add(Dense(128, activation='sigmoid', input_shape=(n,)))\n",
        "#model.add(Dropout(0.5))\n",
        "model.add(Dense(10, activation='softmax'))\n",
        "\n",
        "model.compile(optimizer='sgd',loss='categorical_crossentropy',metrics=['accuracy'])\n",
        "model.summary()\n",
        "\n",
        "#fitting model\n",
        "history=model.fit(x_tr, label_tr, batch_size=128, epochs=20, validation_split=.5)\n",
        "\n",
        "#evaluation\n",
        "loss, accuracy=model.evaluate(x_tr,label_tr)\n",
        "print(accuracy,loss)\n",
        "print('\\n')\n",
        "plt.plot(history.history['accuracy'])\n",
        "plt.plot(history.history['val_accuracy'])\n",
        "plt.show()\n",
        "plt.plot(history.history['val_loss'])\n",
        "plt.plot(history.history['loss'])\n",
        "plt.show()\n",
        "\n",
        "print(f'test loss: {loss:.3}')\n",
        "print(f'test accuracy: {accuracy:.3}')\n",
        "\n",
        "#prediction\n",
        "results=model.predict(x_te)\n",
        "df = pd.DataFrame(results)\n",
        "resultslin=(df.idxmax(axis=1))\n",
        "\n",
        "#confusion matrix\n",
        "con_mat = tf.math.confusion_matrix(labels=label_telin, predictions=resultslin).numpy()\n",
        "print(con_mat)\n",
        "print('\\n')\n",
        "\n",
        "#precision and recall \n",
        "\n",
        "con = pd.DataFrame(con_mat)\n",
        "predpos=con.sum(axis = 0, skipna = True)\n",
        "predneg=con.sum(axis = 1, skipna = True)\n",
        "precision=np.zeros(num_labels)\n",
        "recall=np.zeros(num_labels)\n",
        "for i in range(num_labels):\n",
        "  precision[i]=con_mat[i,i]/(predpos[i])\n",
        "  recall[i]=con_mat[i,i]/(predneg[i])\n",
        "print('precision',precision)\n",
        "print('\\n')\n",
        "print('recall',recall)\n",
        "\n",
        "# inference\n",
        "\n",
        "print('\\n')\n",
        "index = int(input('Enter an index between 1 and 10000 to test the network for'))\n",
        "plt.imshow(x_te2[index].reshape(28,28),cmap='Greys')\n",
        "print(resultslin[index])\n",
        "\n",
        "    "
      ],
      "execution_count": 0,
      "outputs": []
    }
  ]
}